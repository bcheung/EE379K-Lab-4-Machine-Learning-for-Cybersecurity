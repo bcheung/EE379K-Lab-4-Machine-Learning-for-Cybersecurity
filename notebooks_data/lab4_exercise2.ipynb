{
 "cells": [
  {
   "cell_type": "markdown",
   "metadata": {},
   "source": [
    "# Lab 4, Exercise 2"
   ]
  },
  {
   "cell_type": "markdown",
   "metadata": {},
   "source": [
    "## Instructions\n",
    "The goal of this exercise is to build a straightforward machine learning pipeline for a problem with more than two classes.  A lot of the data preprocessing has already been done, so the main focus of this exercise is to become familiar with loading data, training a model, doing inference, and analyzing the results."
   ]
  },
  {
   "cell_type": "code",
   "execution_count": 1,
   "metadata": {},
   "outputs": [],
   "source": [
    "import numpy as np\n",
    "import pandas as pd"
   ]
  },
  {
   "cell_type": "markdown",
   "metadata": {},
   "source": [
    "## Load the data\n",
    "\n",
    "For example, here's the first couple rows of the dataset:\n",
    "\n",
    "| Source IP    |  Source Port |  Destination IP   |  Destination Port |  Protocol |  Flow Duration |  Flow Bytes/s |  Flow Packets/s |  Flow IAT Mean |  Flow IAT Std |  Flow IAT Max |  Flow IAT Min | Fwd IAT Mean |  Fwd IAT Std |  Fwd IAT Max |  Fwd IAT Min | Bwd IAT Mean |  Bwd IAT Std |  Bwd IAT Max |  Bwd IAT Min | Active Mean |  Active Std |  Active Max |  Active Min | Idle Mean |  Idle Std |  Idle Max |  Idle Min | label |\n",
    "|--------------|--------------|-------------------|-------------------|-----------|----------------|---------------|-----------------|----------------|---------------|---------------|---------------|--------------|--------------|--------------|--------------|--------------|--------------|--------------|--------------|-------------|-------------|-------------|-------------|-----------|-----------|-----------|-----------|-------|\n",
    "| 10\\.0\\.2\\.15 | 57188        | 82\\.161\\.239\\.177 | 110               | 6         | 7248168        | 21126\\.02798  | 29\\.11080428    | 34515\\.08571   | 273869\\.2625  | 3897923       | 5             | 89483\\.55556 | 437167\\.5917 | 3898126      | 29           | 56614\\.03906 | 349855\\.1098 | 3898131      | 7            | 0           | 0           | 0           | 0           | 0         | 0         | 0         | 0         | AUDIO |\n",
    "| 10\\.0\\.2\\.15 | 57188        | 82\\.161\\.239\\.177 | 110               | 6         | 5157723        | 1052\\.790156  | 3\\.683796125    | 286540\\.1667   | 878838\\.5256  | 3743359       | 135           | 644715\\.375  | 1272066\\.058 | 3743562      | 509          | 568901\\.6667 | 1209110\\.287 | 3743573      | 451          | 0           | 0           | 0           | 0           | 0         | 0         | 0         | 0         | AUDIO |\n",
    "\n"
   ]
  },
  {
   "cell_type": "code",
   "execution_count": 2,
   "metadata": {},
   "outputs": [],
   "source": [
    "# Import CSV data as a Pandas dataframe\n",
    "# The data is in 'data/exercise2/TOR_TimeBasedFeatures-10s-Layer2.csv'\n",
    "\n",
    "# CODE HERE\n",
    "\n",
    "tor_df = pd.read_csv('data/exercise2/TOR_TimeBasedFeatures-10s-Layer2.csv', delimiter=' *, *', engine='python')\n",
    "# Create data and labels that can be used by sklearn's 'train_test_split'\n",
    "# Create the labels\n",
    "\n",
    "# CODE HERE\n",
    "labels = tor_df['label']\n",
    "\n",
    "# Create the data\n",
    "# -Keep just the numeric features (i.e., those features between 'Flow Duration' and 'Idle Min')\n",
    "# -Make sure not to keep the labels\n",
    "\n",
    "# CODE HERE\n",
    "data = tor_df.loc[:, 'Flow Duration':'Idle Min']\n",
    "\n",
    "# You should now have data and labels that can be used by sklearn's 'train_test_split'"
   ]
  },
  {
   "cell_type": "markdown",
   "metadata": {},
   "source": [
    "## Create a single train/test split for experimentation"
   ]
  },
  {
   "cell_type": "code",
   "execution_count": 3,
   "metadata": {},
   "outputs": [],
   "source": [
    "# Randomly pick 50% of the data for the training set, and keep the remaining 50% for the test set\n",
    "# Use sklearn's 'train_test_split'\n",
    "# CODE HERE\n",
    "\n",
    "from sklearn.model_selection import train_test_split\n",
    "\n",
    "train_data, test_data, train_labels, test_labels = train_test_split(data, labels, test_size=0.5);\n"
   ]
  },
  {
   "cell_type": "markdown",
   "metadata": {},
   "source": [
    "## Train a classifier"
   ]
  },
  {
   "cell_type": "code",
   "execution_count": 4,
   "metadata": {},
   "outputs": [
    {
     "name": "stderr",
     "output_type": "stream",
     "text": [
      "/Users/bcheung/Documents/SoftwareProjects/UT/EE379K/lab4/venv/lib/python3.7/site-packages/sklearn/ensemble/forest.py:245: FutureWarning: The default value of n_estimators will change from 10 in version 0.20 to 100 in 0.22.\n",
      "  \"10 in version 0.20 to 100 in 0.22.\", FutureWarning)\n"
     ]
    }
   ],
   "source": [
    "# Train a random forest classifier using default hyperparameters\n",
    "# Hint: Not counting any import statements, this can be done in a single line of code\n",
    "# CODE HERE\n",
    "\n",
    "from sklearn.ensemble import RandomForestClassifier\n",
    "\n",
    "rf = RandomForestClassifier()\n",
    "model = rf.fit(train_data, train_labels)"
   ]
  },
  {
   "cell_type": "markdown",
   "metadata": {},
   "source": [
    "## Test the classifier on the test set"
   ]
  },
  {
   "cell_type": "code",
   "execution_count": 5,
   "metadata": {},
   "outputs": [
    {
     "name": "stdout",
     "output_type": "stream",
     "text": [
      "Confusion Matrix:\n",
      "[[ 264   69    3    2    5    0   12    1]\n",
      " [  45  653   31    6   17    6   41    3]\n",
      " [   7   96   39    1    2    1    5    2]\n",
      " [   7   14    4  384   12    0   20    3]\n",
      " [   5   50    2    5   44    0   24    0]\n",
      " [   2    6    1    0    0  520    8    1]\n",
      " [  19  102    9   25    9   11  246    3]\n",
      " [   7   15    5    2    2    1    3 1140]] \n",
      "\n",
      "Confusion Matrix Percentages with Labels:\n",
      "Predicted          AUDIO   BROWSING       CHAT  FILE-TRANSFER       MAIL  \\\n",
      "True                                                                       \n",
      "AUDIO          74.157303   6.865672   3.191489       0.470588   5.494505   \n",
      "BROWSING       12.640449  64.975124  32.978723       1.411765  18.681319   \n",
      "CHAT            1.966292   9.552239  41.489362       0.235294   2.197802   \n",
      "FILE-TRANSFER   1.966292   1.393035   4.255319      90.352941  13.186813   \n",
      "MAIL            1.404494   4.975124   2.127660       1.176471  48.351648   \n",
      "P2P             0.561798   0.597015   1.063830       0.000000   0.000000   \n",
      "VIDEO           5.337079  10.149254   9.574468       5.882353   9.890110   \n",
      "VOIP            1.966292   1.492537   5.319149       0.470588   2.197802   \n",
      "\n",
      "Predicted            P2P      VIDEO       VOIP  \n",
      "True                                            \n",
      "AUDIO           0.000000   3.342618   0.086730  \n",
      "BROWSING        1.113173  11.420613   0.260191  \n",
      "CHAT            0.185529   1.392758   0.173461  \n",
      "FILE-TRANSFER   0.000000   5.571031   0.260191  \n",
      "MAIL            0.000000   6.685237   0.000000  \n",
      "P2P            96.474954   2.228412   0.086730  \n",
      "VIDEO           2.040816  68.523677   0.260191  \n",
      "VOIP            0.185529   0.835655  98.872507   \n",
      "\n",
      "accuracy = 0.8180009945300846\n"
     ]
    }
   ],
   "source": [
    "# Predict the labels on the test set\n",
    "\n",
    "# CODE HERE\n",
    "\n",
    "pred_labels = model.predict(test_data)\n",
    "\n",
    "# Use accuracy and a confusion matrix to measure performance\n",
    "# Hint: Use sklearn's built-in metrics\n",
    "\n",
    "# CODE HERE\n",
    "\n",
    "from sklearn.metrics import confusion_matrix, accuracy_score\n",
    "\n",
    "def print_results(test_labels, pred_labels):\n",
    "    \n",
    "    print('Confusion Matrix:')\n",
    "    conf_mat = confusion_matrix(test_labels, pred_labels)\n",
    "    print(conf_mat, '\\n')\n",
    "    print('Confusion Matrix Percentages with Labels:')\n",
    "    print(pd.crosstab(test_labels, pred_labels, rownames=['True'], colnames=['Predicted']).apply(lambda r: 100.0 * r/r.sum()), '\\n')\n",
    "\n",
    "    accuracy = accuracy_score(test_labels, pred_labels)\n",
    "    print('accuracy =', accuracy)\n",
    "    \n",
    "print_results(test_labels, pred_labels)"
   ]
  },
  {
   "cell_type": "code",
   "execution_count": 9,
   "metadata": {},
   "outputs": [
    {
     "name": "stdout",
     "output_type": "stream",
     "text": [
      "Important Features:\n"
     ]
    },
    {
     "data": {
      "text/html": [
       "<div>\n",
       "<style scoped>\n",
       "    .dataframe tbody tr th:only-of-type {\n",
       "        vertical-align: middle;\n",
       "    }\n",
       "\n",
       "    .dataframe tbody tr th {\n",
       "        vertical-align: top;\n",
       "    }\n",
       "\n",
       "    .dataframe thead th {\n",
       "        text-align: right;\n",
       "    }\n",
       "</style>\n",
       "<table border=\"1\" class=\"dataframe\">\n",
       "  <thead>\n",
       "    <tr style=\"text-align: right;\">\n",
       "      <th></th>\n",
       "      <th>Importance</th>\n",
       "    </tr>\n",
       "  </thead>\n",
       "  <tbody>\n",
       "    <tr>\n",
       "      <th>Flow Packets/s</th>\n",
       "      <td>0.098725</td>\n",
       "    </tr>\n",
       "    <tr>\n",
       "      <th>Flow IAT Max</th>\n",
       "      <td>0.090705</td>\n",
       "    </tr>\n",
       "    <tr>\n",
       "      <th>Flow Bytes/s</th>\n",
       "      <td>0.085834</td>\n",
       "    </tr>\n",
       "    <tr>\n",
       "      <th>Bwd IAT Mean</th>\n",
       "      <td>0.076371</td>\n",
       "    </tr>\n",
       "    <tr>\n",
       "      <th>Bwd IAT Max</th>\n",
       "      <td>0.074899</td>\n",
       "    </tr>\n",
       "    <tr>\n",
       "      <th>Bwd IAT Min</th>\n",
       "      <td>0.072702</td>\n",
       "    </tr>\n",
       "    <tr>\n",
       "      <th>Fwd IAT Min</th>\n",
       "      <td>0.067380</td>\n",
       "    </tr>\n",
       "    <tr>\n",
       "      <th>Flow IAT Mean</th>\n",
       "      <td>0.064817</td>\n",
       "    </tr>\n",
       "    <tr>\n",
       "      <th>Fwd IAT Max</th>\n",
       "      <td>0.063509</td>\n",
       "    </tr>\n",
       "    <tr>\n",
       "      <th>Fwd IAT Mean</th>\n",
       "      <td>0.059337</td>\n",
       "    </tr>\n",
       "    <tr>\n",
       "      <th>Flow IAT Std</th>\n",
       "      <td>0.056542</td>\n",
       "    </tr>\n",
       "    <tr>\n",
       "      <th>Flow Duration</th>\n",
       "      <td>0.048463</td>\n",
       "    </tr>\n",
       "    <tr>\n",
       "      <th>Flow IAT Min</th>\n",
       "      <td>0.043863</td>\n",
       "    </tr>\n",
       "    <tr>\n",
       "      <th>Fwd IAT Std</th>\n",
       "      <td>0.041688</td>\n",
       "    </tr>\n",
       "    <tr>\n",
       "      <th>Bwd IAT Std</th>\n",
       "      <td>0.037133</td>\n",
       "    </tr>\n",
       "    <tr>\n",
       "      <th>Active Max</th>\n",
       "      <td>0.004087</td>\n",
       "    </tr>\n",
       "    <tr>\n",
       "      <th>Active Mean</th>\n",
       "      <td>0.003909</td>\n",
       "    </tr>\n",
       "    <tr>\n",
       "      <th>Active Min</th>\n",
       "      <td>0.002827</td>\n",
       "    </tr>\n",
       "    <tr>\n",
       "      <th>Idle Mean</th>\n",
       "      <td>0.002498</td>\n",
       "    </tr>\n",
       "    <tr>\n",
       "      <th>Idle Min</th>\n",
       "      <td>0.002391</td>\n",
       "    </tr>\n",
       "    <tr>\n",
       "      <th>Idle Max</th>\n",
       "      <td>0.002320</td>\n",
       "    </tr>\n",
       "    <tr>\n",
       "      <th>Active Std</th>\n",
       "      <td>0.000000</td>\n",
       "    </tr>\n",
       "    <tr>\n",
       "      <th>Idle Std</th>\n",
       "      <td>0.000000</td>\n",
       "    </tr>\n",
       "  </tbody>\n",
       "</table>\n",
       "</div>"
      ],
      "text/plain": [
       "                Importance\n",
       "Flow Packets/s    0.098725\n",
       "Flow IAT Max      0.090705\n",
       "Flow Bytes/s      0.085834\n",
       "Bwd IAT Mean      0.076371\n",
       "Bwd IAT Max       0.074899\n",
       "Bwd IAT Min       0.072702\n",
       "Fwd IAT Min       0.067380\n",
       "Flow IAT Mean     0.064817\n",
       "Fwd IAT Max       0.063509\n",
       "Fwd IAT Mean      0.059337\n",
       "Flow IAT Std      0.056542\n",
       "Flow Duration     0.048463\n",
       "Flow IAT Min      0.043863\n",
       "Fwd IAT Std       0.041688\n",
       "Bwd IAT Std       0.037133\n",
       "Active Max        0.004087\n",
       "Active Mean       0.003909\n",
       "Active Min        0.002827\n",
       "Idle Mean         0.002498\n",
       "Idle Min          0.002391\n",
       "Idle Max          0.002320\n",
       "Active Std        0.000000\n",
       "Idle Std          0.000000"
      ]
     },
     "execution_count": 9,
     "metadata": {},
     "output_type": "execute_result"
    }
   ],
   "source": [
    "# Determine important features\n",
    "\n",
    "# CODE HERE\n",
    "\n",
    "from pprint import pprint\n",
    "\n",
    "print('Important Features:')\n",
    "feature_importances_df = pd.DataFrame(model.feature_importances_, index=test_data.columns, columns=['Importance'])\n",
    "feature_importances_df.sort_values('Importance', ascending=False)\n"
   ]
  },
  {
   "cell_type": "markdown",
   "metadata": {},
   "source": [
    "Questions:\n",
    "\n",
    "1) What is the overall accuracy using the default parameters?  \n",
    "\n",
    "Accuracy: 0.8180\n",
    "\n",
    "2) What is the confusion matrix for the tested approach?  What are the classes where the model performs well?  What are the classes where the model performs poorly?\n",
    "\n",
    "Confusion Matrix:\n",
    "\n",
    "```\n",
    "[[ 264   69    3    2    5    0   12    1]\n",
    " [  45  653   31    6   17    6   41    3]\n",
    " [   7   96   39    1    2    1    5    2]\n",
    " [   7   14    4  384   12    0   20    3]\n",
    " [   5   50    2    5   44    0   24    0]\n",
    " [   2    6    1    0    0  520    8    1]\n",
    " [  19  102    9   25    9   11  246    3]\n",
    " [   7   15    5    2    2    1    3 1140]] \n",
    " ```\n",
    " \n",
    " The model performs well on FILE-TRANSFER, P2P, and VOIP.\n",
    " The model performs poorly on AUDIO, BROWSING, CHAT, MAIL, and VIDEO.\n",
    " \n",
    "3) What are the top 5 most important features?\n",
    "\n",
    "1. Flow Packets/s\n",
    "2. Flow IAT Max\n",
    "3. Flow Bytes/s\n",
    "4. Bwd IAT Mean\n",
    "5. Bwd IAT Max\n",
    "\n",
    "4) What hyperparameters could you tune in the random forest to improve performance? What is the best accuracy you can attain?\n",
    "\n",
    "<!-- https://medium.com/all-things-ai/in-depth-parameter-tuning-for-random-forest-d67bb7e920d -->\n",
    "<!-- https://medium.com/@taplapinger/tuning-a-random-forest-classifier-1b252d1dde92 -->\n",
    "<!-- https://www.analyticsvidhya.com/blog/2015/06/tuning-random-forest-model/ -->\n",
    "\n",
    "n_estimators=1000, max_features=10\n",
    "Accuracy: 0.8381\n",
    "(Tuned model below)\n",
    "\n",
    "5) Bonus: How would you improve the pipeline above to automatically tune the hyperparameters?  How would you improve the pipeline to use multiple train/test splits?"
   ]
  },
  {
   "cell_type": "code",
   "execution_count": 13,
   "metadata": {
    "scrolled": true
   },
   "outputs": [
    {
     "name": "stdout",
     "output_type": "stream",
     "text": [
      "{'bootstrap': True,\n",
      " 'class_weight': None,\n",
      " 'criterion': 'gini',\n",
      " 'max_depth': None,\n",
      " 'max_features': 'auto',\n",
      " 'max_leaf_nodes': None,\n",
      " 'min_impurity_decrease': 0.0,\n",
      " 'min_impurity_split': None,\n",
      " 'min_samples_leaf': 1,\n",
      " 'min_samples_split': 2,\n",
      " 'min_weight_fraction_leaf': 0.0,\n",
      " 'n_estimators': 10,\n",
      " 'n_jobs': None,\n",
      " 'oob_score': False,\n",
      " 'random_state': None,\n",
      " 'verbose': 0,\n",
      " 'warm_start': False}\n"
     ]
    }
   ],
   "source": [
    "pprint(rf.get_params())"
   ]
  },
  {
   "cell_type": "code",
   "execution_count": 14,
   "metadata": {},
   "outputs": [
    {
     "name": "stdout",
     "output_type": "stream",
     "text": [
      "Confusion Matrix:\n",
      "[[ 263   70    3    3    3    1   12    1]\n",
      " [  33  665   28    5   11    3   55    2]\n",
      " [   1   97   43    2    1    1    6    2]\n",
      " [   4   22    1  388   10    0   17    2]\n",
      " [   4   40    3    7   54    1   21    0]\n",
      " [   3    6    0    1    0  519    9    0]\n",
      " [  13   77    4   17    4   10  297    2]\n",
      " [   4   17    5    1    0    2    4 1142]] \n",
      "\n",
      "Confusion Matrix Percentages with Labels:\n",
      "Predicted          AUDIO   BROWSING       CHAT  FILE-TRANSFER       MAIL  \\\n",
      "True                                                                       \n",
      "AUDIO          80.923077   7.042254   3.448276       0.707547   3.614458   \n",
      "BROWSING       10.153846  66.901408  32.183908       1.179245  13.253012   \n",
      "CHAT            0.307692   9.758551  49.425287       0.471698   1.204819   \n",
      "FILE-TRANSFER   1.230769   2.213280   1.149425      91.509434  12.048193   \n",
      "MAIL            1.230769   4.024145   3.448276       1.650943  65.060241   \n",
      "P2P             0.923077   0.603622   0.000000       0.235849   0.000000   \n",
      "VIDEO           4.000000   7.746479   4.597701       4.009434   4.819277   \n",
      "VOIP            1.230769   1.710262   5.747126       0.235849   0.000000   \n",
      "\n",
      "Predicted            P2P      VIDEO       VOIP  \n",
      "True                                            \n",
      "AUDIO           0.186220   2.850356   0.086881  \n",
      "BROWSING        0.558659  13.064133   0.173762  \n",
      "CHAT            0.186220   1.425178   0.173762  \n",
      "FILE-TRANSFER   0.000000   4.038005   0.173762  \n",
      "MAIL            0.186220   4.988124   0.000000  \n",
      "P2P            96.648045   2.137767   0.000000  \n",
      "VIDEO           1.862197  70.546318   0.173762  \n",
      "VOIP            0.372439   0.950119  99.218071   \n",
      "\n",
      "accuracy = 0.8381402287419194\n"
     ]
    }
   ],
   "source": [
    "tuned_rf = RandomForestClassifier(n_estimators=1000, max_features=10, random_state=0)\n",
    "tuned_model = tuned_rf.fit(train_data, train_labels)\n",
    "tuned_pred_labels = tuned_model.predict(test_data)\n",
    "print_results(test_labels, tuned_pred_labels)"
   ]
  }
 ],
 "metadata": {
  "kernelspec": {
   "display_name": "Python 3",
   "language": "python",
   "name": "python3"
  },
  "language_info": {
   "codemirror_mode": {
    "name": "ipython",
    "version": 3
   },
   "file_extension": ".py",
   "mimetype": "text/x-python",
   "name": "python",
   "nbconvert_exporter": "python",
   "pygments_lexer": "ipython3",
   "version": "3.7.2"
  }
 },
 "nbformat": 4,
 "nbformat_minor": 4
}
